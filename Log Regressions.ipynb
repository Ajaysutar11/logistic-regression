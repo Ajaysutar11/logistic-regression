{
 "cells": [
  {
   "cell_type": "code",
   "execution_count": 1,
   "id": "0dfd4be4",
   "metadata": {},
   "outputs": [],
   "source": [
    "import pandas as pd"
   ]
  },
  {
   "cell_type": "code",
   "execution_count": 2,
   "id": "71523b6a",
   "metadata": {},
   "outputs": [
    {
     "data": {
      "text/html": [
       "<div>\n",
       "<style scoped>\n",
       "    .dataframe tbody tr th:only-of-type {\n",
       "        vertical-align: middle;\n",
       "    }\n",
       "\n",
       "    .dataframe tbody tr th {\n",
       "        vertical-align: top;\n",
       "    }\n",
       "\n",
       "    .dataframe thead th {\n",
       "        text-align: right;\n",
       "    }\n",
       "</style>\n",
       "<table border=\"1\" class=\"dataframe\">\n",
       "  <thead>\n",
       "    <tr style=\"text-align: right;\">\n",
       "      <th></th>\n",
       "      <th>Age</th>\n",
       "      <th>EstimatedSalary</th>\n",
       "      <th>Purchased</th>\n",
       "    </tr>\n",
       "  </thead>\n",
       "  <tbody>\n",
       "    <tr>\n",
       "      <th>0</th>\n",
       "      <td>19</td>\n",
       "      <td>19000</td>\n",
       "      <td>0</td>\n",
       "    </tr>\n",
       "    <tr>\n",
       "      <th>1</th>\n",
       "      <td>35</td>\n",
       "      <td>20000</td>\n",
       "      <td>0</td>\n",
       "    </tr>\n",
       "    <tr>\n",
       "      <th>2</th>\n",
       "      <td>26</td>\n",
       "      <td>43000</td>\n",
       "      <td>0</td>\n",
       "    </tr>\n",
       "    <tr>\n",
       "      <th>3</th>\n",
       "      <td>27</td>\n",
       "      <td>57000</td>\n",
       "      <td>0</td>\n",
       "    </tr>\n",
       "    <tr>\n",
       "      <th>4</th>\n",
       "      <td>19</td>\n",
       "      <td>76000</td>\n",
       "      <td>0</td>\n",
       "    </tr>\n",
       "    <tr>\n",
       "      <th>...</th>\n",
       "      <td>...</td>\n",
       "      <td>...</td>\n",
       "      <td>...</td>\n",
       "    </tr>\n",
       "    <tr>\n",
       "      <th>395</th>\n",
       "      <td>46</td>\n",
       "      <td>41000</td>\n",
       "      <td>1</td>\n",
       "    </tr>\n",
       "    <tr>\n",
       "      <th>396</th>\n",
       "      <td>51</td>\n",
       "      <td>23000</td>\n",
       "      <td>1</td>\n",
       "    </tr>\n",
       "    <tr>\n",
       "      <th>397</th>\n",
       "      <td>50</td>\n",
       "      <td>20000</td>\n",
       "      <td>1</td>\n",
       "    </tr>\n",
       "    <tr>\n",
       "      <th>398</th>\n",
       "      <td>36</td>\n",
       "      <td>33000</td>\n",
       "      <td>0</td>\n",
       "    </tr>\n",
       "    <tr>\n",
       "      <th>399</th>\n",
       "      <td>49</td>\n",
       "      <td>36000</td>\n",
       "      <td>1</td>\n",
       "    </tr>\n",
       "  </tbody>\n",
       "</table>\n",
       "<p>400 rows × 3 columns</p>\n",
       "</div>"
      ],
      "text/plain": [
       "     Age  EstimatedSalary  Purchased\n",
       "0     19            19000          0\n",
       "1     35            20000          0\n",
       "2     26            43000          0\n",
       "3     27            57000          0\n",
       "4     19            76000          0\n",
       "..   ...              ...        ...\n",
       "395   46            41000          1\n",
       "396   51            23000          1\n",
       "397   50            20000          1\n",
       "398   36            33000          0\n",
       "399   49            36000          1\n",
       "\n",
       "[400 rows x 3 columns]"
      ]
     },
     "execution_count": 2,
     "metadata": {},
     "output_type": "execute_result"
    }
   ],
   "source": [
    "df = pd.read_csv('Social_Network_Ads.csv')\n",
    "df"
   ]
  },
  {
   "cell_type": "code",
   "execution_count": 3,
   "id": "0e475cdd",
   "metadata": {},
   "outputs": [],
   "source": [
    "X = df[['Age','EstimatedSalary']]\n",
    "y = df[['Purchased']]"
   ]
  },
  {
   "cell_type": "code",
   "execution_count": 4,
   "id": "a4bb81cf",
   "metadata": {},
   "outputs": [],
   "source": [
    "from sklearn.model_selection import train_test_split\n",
    "X_train,X_test,y_train,y_test=train_test_split(X,y,test_size=0.25,random_state=20)"
   ]
  },
  {
   "cell_type": "code",
   "execution_count": 5,
   "id": "2c1e154e",
   "metadata": {},
   "outputs": [
    {
     "data": {
      "text/plain": [
       "(300, 2)"
      ]
     },
     "execution_count": 5,
     "metadata": {},
     "output_type": "execute_result"
    }
   ],
   "source": [
    "X_train.shape"
   ]
  },
  {
   "cell_type": "code",
   "execution_count": 6,
   "id": "6143c870",
   "metadata": {},
   "outputs": [],
   "source": [
    "from sklearn.preprocessing import MinMaxScaler"
   ]
  },
  {
   "cell_type": "code",
   "execution_count": 7,
   "id": "c9430048",
   "metadata": {},
   "outputs": [],
   "source": [
    "scaler = MinMaxScaler()\n",
    "scaler.fit(X_train)\n",
    "X_train_scaled = scaler.transform(X_train)\n",
    "X_test_scaled = scaler.transform(X_test)"
   ]
  },
  {
   "cell_type": "code",
   "execution_count": 8,
   "id": "54a4e5ca",
   "metadata": {},
   "outputs": [],
   "source": [
    "from sklearn.linear_model import LogisticRegression"
   ]
  },
  {
   "cell_type": "code",
   "execution_count": 9,
   "id": "b82cf394",
   "metadata": {},
   "outputs": [
    {
     "name": "stderr",
     "output_type": "stream",
     "text": [
      "C:\\Users\\ajay sutar\\anaconda3\\lib\\site-packages\\sklearn\\utils\\validation.py:993: DataConversionWarning: A column-vector y was passed when a 1d array was expected. Please change the shape of y to (n_samples, ), for example using ravel().\n",
      "  y = column_or_1d(y, warn=True)\n"
     ]
    },
    {
     "data": {
      "text/plain": [
       "LogisticRegression()"
      ]
     },
     "execution_count": 9,
     "metadata": {},
     "output_type": "execute_result"
    }
   ],
   "source": [
    "model = LogisticRegression()\n",
    "model.fit(X_train_scaled,y_train)"
   ]
  },
  {
   "cell_type": "code",
   "execution_count": 10,
   "id": "e4305973",
   "metadata": {},
   "outputs": [
    {
     "data": {
      "text/plain": [
       "0.82"
      ]
     },
     "execution_count": 10,
     "metadata": {},
     "output_type": "execute_result"
    }
   ],
   "source": [
    "model.score(X_test_scaled,y_test)"
   ]
  },
  {
   "cell_type": "code",
   "execution_count": 11,
   "id": "4e2b29aa",
   "metadata": {},
   "outputs": [
    {
     "name": "stderr",
     "output_type": "stream",
     "text": [
      "C:\\Users\\ajay sutar\\anaconda3\\lib\\site-packages\\sklearn\\base.py:450: UserWarning: X does not have valid feature names, but MinMaxScaler was fitted with feature names\n",
      "  warnings.warn(\n"
     ]
    }
   ],
   "source": [
    "# To predict\n",
    "q = [[20,75000],\n",
    "     [55,120000],\n",
    "     [48,30000],\n",
    "    [40,38000]]\n",
    "q_scaled= scaler.transform(q)"
   ]
  },
  {
   "cell_type": "code",
   "execution_count": 16,
   "id": "b8758d3a",
   "metadata": {},
   "outputs": [
    {
     "data": {
      "text/plain": [
       "array([0, 1, 0, 0], dtype=int64)"
      ]
     },
     "execution_count": 16,
     "metadata": {},
     "output_type": "execute_result"
    }
   ],
   "source": [
    "model.predict(q_scaled)"
   ]
  },
  {
   "cell_type": "code",
   "execution_count": 13,
   "id": "a07121ce",
   "metadata": {},
   "outputs": [],
   "source": [
    "import matplotlib.pyplot as plt"
   ]
  },
  {
   "cell_type": "code",
   "execution_count": 14,
   "id": "87b3a9d4",
   "metadata": {},
   "outputs": [
    {
     "data": {
      "text/plain": [
       "(array([0.42857143, 0.80952381, 0.4047619 , 0.26190476, 0.69047619,\n",
       "        0.4047619 , 0.71428571, 0.30952381, 0.11904762, 0.30952381,\n",
       "        0.04761905, 0.16666667, 0.64285714, 0.66666667, 0.07142857,\n",
       "        0.54761905, 0.66666667, 0.45238095, 0.73809524, 0.19047619,\n",
       "        0.69047619, 0.19047619, 0.69047619, 0.5       , 0.23809524,\n",
       "        0.28571429, 0.23809524, 0.30952381, 0.38095238, 0.5       ,\n",
       "        0.95238095, 0.52380952, 0.69047619, 0.78571429, 0.73809524,\n",
       "        0.71428571, 0.4047619 , 0.4047619 , 0.0952381 , 0.95238095,\n",
       "        0.26190476, 0.54761905, 0.28571429, 0.35714286, 0.69047619,\n",
       "        0.54761905, 0.64285714, 0.47619048, 0.64285714, 0.19047619,\n",
       "        0.42857143, 0.30952381, 0.66666667, 0.14285714, 0.5       ,\n",
       "        0.35714286, 0.26190476, 0.66666667, 0.21428571, 0.54761905,\n",
       "        0.54761905, 0.21428571, 0.0952381 , 0.28571429, 0.71428571,\n",
       "        0.69047619, 0.76190476, 0.23809524, 0.66666667, 0.42857143,\n",
       "        0.35714286, 0.33333333, 0.45238095, 0.45238095, 0.19047619,\n",
       "        0.30952381, 0.73809524, 0.97619048, 0.73809524, 0.57142857,\n",
       "        0.88095238, 0.4047619 , 0.21428571, 0.45238095, 0.76190476,\n",
       "        0.57142857, 0.07142857, 0.04761905, 0.57142857, 0.42857143,\n",
       "        0.4047619 , 0.52380952, 0.42857143, 0.16666667, 0.4047619 ,\n",
       "        0.14285714, 0.4047619 , 0.23809524, 0.28571429, 0.69047619,\n",
       "        0.54761905, 0.73809524, 0.47619048, 0.66666667, 0.45238095,\n",
       "        0.71428571, 0.57142857, 0.14285714, 0.19047619, 0.52380952,\n",
       "        0.30952381, 0.16666667, 0.9047619 , 0.97619048, 0.52380952,\n",
       "        0.35714286, 0.02380952, 0.23809524, 0.16666667, 0.78571429,\n",
       "        0.52380952, 0.54761905, 0.4047619 , 0.83333333, 0.57142857,\n",
       "        0.5       , 0.19047619, 0.11904762, 0.80952381, 0.69047619,\n",
       "        0.9047619 , 0.4047619 , 0.19047619, 0.07142857, 0.        ,\n",
       "        0.11904762, 0.47619048, 0.19047619, 0.45238095, 0.21428571,\n",
       "        0.57142857, 0.83333333, 0.45238095, 0.4047619 , 0.33333333,\n",
       "        0.26190476, 0.35714286, 0.04761905, 0.4047619 , 0.21428571,\n",
       "        0.        , 0.71428571, 0.45238095, 0.14285714, 0.14285714,\n",
       "        1.        , 0.30952381, 0.21428571, 0.97619048, 0.38095238,\n",
       "        0.57142857, 0.23809524, 0.57142857, 0.71428571, 0.45238095,\n",
       "        0.47619048, 0.66666667, 0.21428571, 0.0952381 , 0.28571429,\n",
       "        0.14285714, 0.04761905, 0.02380952, 0.26190476, 0.19047619,\n",
       "        0.02380952, 0.4047619 , 0.28571429, 0.23809524, 0.71428571,\n",
       "        0.28571429, 0.35714286, 0.42857143, 0.71428571, 0.78571429,\n",
       "        0.23809524, 0.5       , 0.47619048, 0.23809524, 0.30952381,\n",
       "        0.76190476, 0.5       , 0.52380952, 0.57142857, 0.14285714,\n",
       "        0.54761905, 0.35714286, 0.33333333, 0.5952381 , 0.5       ,\n",
       "        0.80952381, 1.        , 0.73809524, 0.52380952, 0.30952381,\n",
       "        0.73809524, 0.21428571, 0.4047619 , 0.26190476, 0.54761905,\n",
       "        0.4047619 , 0.57142857, 0.4047619 , 0.47619048, 0.76190476,\n",
       "        0.9047619 , 0.52380952, 0.54761905, 0.92857143, 0.4047619 ,\n",
       "        0.4047619 , 0.04761905, 0.88095238, 0.19047619, 0.19047619,\n",
       "        0.4047619 , 0.85714286, 0.64285714, 0.04761905, 0.57142857,\n",
       "        0.5       , 0.57142857, 0.4047619 , 0.47619048, 0.23809524,\n",
       "        0.23809524, 0.73809524, 0.97619048, 0.71428571, 0.57142857,\n",
       "        0.69047619, 0.02380952, 0.4047619 , 0.71428571, 0.19047619,\n",
       "        0.16666667, 0.21428571, 0.4047619 , 0.45238095, 0.47619048,\n",
       "        0.97619048, 0.92857143, 0.02380952, 0.66666667, 0.71428571,\n",
       "        0.38095238, 0.35714286, 0.19047619, 0.57142857, 0.71428571,\n",
       "        0.28571429, 0.54761905, 0.64285714, 0.92857143, 0.5       ,\n",
       "        0.88095238, 0.52380952, 0.54761905, 0.95238095, 0.5       ,\n",
       "        0.4047619 , 0.54761905, 0.5       , 0.69047619, 0.        ,\n",
       "        0.69047619, 0.21428571, 0.80952381, 0.4047619 , 0.54761905,\n",
       "        0.07142857, 0.38095238, 0.14285714, 0.92857143, 0.4047619 ,\n",
       "        0.45238095, 1.        , 0.45238095, 0.45238095, 0.21428571,\n",
       "        0.52380952, 0.45238095, 0.14285714, 0.80952381, 0.71428571,\n",
       "        1.        , 0.66666667, 1.        , 0.97619048, 1.        ]),)"
      ]
     },
     "execution_count": 14,
     "metadata": {},
     "output_type": "execute_result"
    }
   ],
   "source": [
    "X_train_scaled[:,0],"
   ]
  },
  {
   "cell_type": "code",
   "execution_count": null,
   "id": "7b1117e1",
   "metadata": {},
   "outputs": [],
   "source": []
  }
 ],
 "metadata": {
  "kernelspec": {
   "display_name": "Python 3 (ipykernel)",
   "language": "python",
   "name": "python3"
  },
  "language_info": {
   "codemirror_mode": {
    "name": "ipython",
    "version": 3
   },
   "file_extension": ".py",
   "mimetype": "text/x-python",
   "name": "python",
   "nbconvert_exporter": "python",
   "pygments_lexer": "ipython3",
   "version": "3.9.13"
  }
 },
 "nbformat": 4,
 "nbformat_minor": 5
}
